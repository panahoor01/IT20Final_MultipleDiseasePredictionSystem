{
 "cells": [
  {
   "cell_type": "markdown",
   "id": "fd45307b",
   "metadata": {},
   "source": [
    "# 🧠 Diabetes Prediction Model (Cleaned & Improved Version)\n",
    "This notebook trains a Logistic Regression model to predict diabetes, saves both the model and scaler, and includes an example prediction with confidence output."
   ]
  },
  {
   "cell_type": "code",
   "execution_count": null,
   "id": "f270850f",
   "metadata": {},
   "outputs": [],
   "source": [
    "\n",
    "# 1️⃣ Import Libraries\n",
    "import numpy as np\n",
    "import pandas as pd\n",
    "from sklearn.model_selection import train_test_split\n",
    "from sklearn.preprocessing import StandardScaler\n",
    "from sklearn.linear_model import LogisticRegression\n",
    "from sklearn.metrics import accuracy_score, classification_report\n",
    "import pickle\n"
   ]
  },
  {
   "cell_type": "code",
   "execution_count": null,
   "id": "1add406b",
   "metadata": {},
   "outputs": [],
   "source": [
    "\n",
    "# 2️⃣ Load Dataset\n",
    "# Ensure the 'diabetes.csv' file is in the same folder as this notebook\n",
    "df = pd.read_csv('diabetes.csv')\n",
    "df.head()\n"
   ]
  },
  {
   "cell_type": "code",
   "execution_count": null,
   "id": "9c4429c8",
   "metadata": {},
   "outputs": [],
   "source": [
    "\n",
    "# 3️⃣ Split Data into Features (X) and Target (Y)\n",
    "X = df.drop(columns='Outcome', axis=1)\n",
    "Y = df['Outcome']\n",
    "\n",
    "# Train-test split\n",
    "X_train, X_test, Y_train, Y_test = train_test_split(X, Y, test_size=0.2, stratify=Y, random_state=2)\n"
   ]
  },
  {
   "cell_type": "code",
   "execution_count": null,
   "id": "ca62e305",
   "metadata": {},
   "outputs": [],
   "source": [
    "\n",
    "# 4️⃣ Scale the Data\n",
    "scaler = StandardScaler()\n",
    "X_train_scaled = scaler.fit_transform(X_train)\n",
    "X_test_scaled = scaler.transform(X_test)\n"
   ]
  },
  {
   "cell_type": "code",
   "execution_count": null,
   "id": "d60d8244",
   "metadata": {},
   "outputs": [],
   "source": [
    "\n",
    "# 5️⃣ Train Logistic Regression Model\n",
    "model = LogisticRegression(max_iter=1000)\n",
    "model.fit(X_train_scaled, Y_train)\n",
    "\n",
    "# Evaluate accuracy\n",
    "train_acc = accuracy_score(Y_train, model.predict(X_train_scaled))\n",
    "test_acc = accuracy_score(Y_test, model.predict(X_test_scaled))\n",
    "\n",
    "print(f\"✅ Training Accuracy: {train_acc*100:.2f}%\")\n",
    "print(f\"✅ Testing Accuracy: {test_acc*100:.2f}%\")\n",
    "print(\"\\nClassification Report:\\n\", classification_report(Y_test, model.predict(X_test_scaled)))\n"
   ]
  },
  {
   "cell_type": "code",
   "execution_count": null,
   "id": "8750c8a7",
   "metadata": {},
   "outputs": [],
   "source": [
    "\n",
    "# 6️⃣ Save Model and Scaler\n",
    "model_path = 'C:/Projects/Deploying Machine Learning Model/trained_model.sav'\n",
    "scaler_path = 'C:/Projects/Deploying Machine Learning Model/scaler.sav'\n",
    "\n",
    "with open(model_path, 'wb') as model_file:\n",
    "    pickle.dump(model, model_file)\n",
    "\n",
    "with open(scaler_path, 'wb') as scaler_file:\n",
    "    pickle.dump(scaler, scaler_file)\n",
    "\n",
    "print(\"💾 Model and Scaler saved successfully!\")\n"
   ]
  },
  {
   "cell_type": "code",
   "execution_count": null,
   "id": "43d0bddd",
   "metadata": {},
   "outputs": [],
   "source": [
    "\n",
    "# 7️⃣ Example Prediction with Confidence Output\n",
    "\n",
    "# Load model & scaler\n",
    "loaded_model = pickle.load(open('C:/Projects/Deploying Machine Learning Model/trained_model.sav', 'rb'))\n",
    "loaded_scaler = pickle.load(open('C:/Projects/Deploying Machine Learning Model/scaler.sav', 'rb'))\n",
    "\n",
    "# Example input data (Pregnancies, Glucose, BloodPressure, SkinThickness, Insulin, BMI, DiabetesPedigreeFunction, Age)\n",
    "input_data = (4, 154, 62, 31, 284, 32.8, 0.237, 23)\n",
    "\n",
    "# Convert and reshape\n",
    "input_array = np.asarray(input_data).reshape(1, -1)\n",
    "\n",
    "# Scale input\n",
    "scaled_input = loaded_scaler.transform(input_array)\n",
    "\n",
    "# Predict\n",
    "prediction = loaded_model.predict(scaled_input)\n",
    "probability = loaded_model.predict_proba(scaled_input)[0][prediction[0]] * 100\n",
    "\n",
    "print(\"🩸 Prediction:\", \"Diabetic\" if prediction[0] == 1 else \"Not Diabetic\")\n",
    "print(f\"🧾 Confidence: {probability:.2f}%\")\n"
   ]
  }
 ],
 "metadata": {
  "colab": {
   "provenance": []
  },
  "kernelspec": {
   "display_name": "Python 3",
   "name": "python3"
  },
  "language_info": {
   "name": "python"
  }
 },
 "nbformat": 4,
 "nbformat_minor": 0
}
